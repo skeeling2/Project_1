# Import dependencies
import pandas as pd
import numpy as np
from scipy import stats
from matplotlib import pyplot as plt
from pathlib import Path


# Read in CSV
datafile = Path("Covid_Data_csv.csv")
original_df = pd.read_csv(datafile)
original_df.head()


# 99 and 97 are used as values when data wasn't collected. 9999-99-99 is used at date of death when the patient didn't die. Replace these values with 0 so they won't interfere in any summing done. 
# 2= no and 1 = yes in binary fields. Switch 2 to -1
original_df["INTUBED"].replace([97, 98, 99], 0, inplace=True)
original_df["INTUBED"].replace([2], -1, inplace=True)
original_df["PREGNANT"].replace([97, 98, 99], 0, inplace=True)
original_df["PREGNANT"].replace([2], -1, inplace=True)
original_df["USMER"].replace([97, 98, 99], 0, inplace=True)
original_df["MEDICAL_UNIT"].replace([97, 98, 99], 0, inplace=True)
original_df["SEX"].replace([97, 98, 99], 0, inplace=True)
original_df["PATIENT_TYPE"].replace([97, 98, 99], 0, inplace=True)
original_df["PNEUMONIA"].replace([97, 98, 99], 0, inplace=True)
original_df["PNEUMONIA"].replace([2], -1, inplace=True)
original_df["DIABETES"].replace([97, 98, 99], 0, inplace=True)
original_df["DIABETES"].replace([2], -1, inplace=True)
original_df["COPD"].replace([97, 98, 99], 0, inplace=True)
original_df["COPD"].replace([2], -1, inplace=True)
original_df["ASTHMA"].replace([97, 98, 99], 0, inplace=True)
original_df["ASTHMA"].replace([2], -1, inplace=True)
original_df["INMSUPR"].replace([97, 98, 99], 0, inplace=True)
original_df["INMSUPR"].replace([2], -1, inplace=True)
original_df["HIPERTENSION"].replace([97, 98, 99], 0, inplace=True)
original_df["HIPERTENSION"].replace([2], -1, inplace=True)
original_df["OTHER_DISEASE"].replace([97, 98, 99], 0, inplace=True)
original_df["OTHER_DISEASE"].replace([2], -1, inplace=True)
original_df["CARDIOVASCULAR"].replace([97, 98, 99], 0, inplace=True)
original_df["CARDIOVASCULAR"].replace([2], -1, inplace=True)
original_df["OBESITY"].replace([97, 98, 99], 0, inplace=True)
original_df["OBESITY"].replace([2], -1, inplace=True)
original_df["RENAL_CHRONIC"].replace([97, 98, 99], 0, inplace=True)
original_df["RENAL_CHRONIC"].replace([2], -1, inplace=True)
original_df["TOBACCO"].replace([97, 98, 99], 0, inplace=True)
original_df["TOBACCO"].replace([2], -1, inplace=True)
original_df["CLASIFFICATION_FINAL"].replace([97, 98, 99], 0, inplace=True)
original_df["ICU"].replace([97, 98, 99], 0, inplace=True)
original_df["ICU"].replace([2], -1, inplace=True)
original_df["DATE_DIED"].replace(["9999-99-99"], 0, inplace=True)
original_df


# Sum pre-exisitng conditions and add to empty column (disease only, excludes pregnancy and tobacco use)
original_df["Pre-Existing Conditions Score"] = ""
selected_columns = ["DIABETES", "COPD","ASTHMA","INMSUPR","HIPERTENSION","OTHER_DISEASE", "CARDIOVASCULAR", "OBESITY", "RENAL_CHRONIC"]
for index, row in original_df.iterrows():
    original_df.loc[index, 'Pre-Existing Conditions Score'] = row[selected_columns].sum()

original_df.head()


#Export dataframe to CSV to don't have to run above cell everytime - takes a very long time to sum all the rows
original_df.to_csv("Covid_Data_With_Sum.csv", index = False)


#Read new CSV back into a dataframe
datafile2 = Path("Covid_Data_With_Sum.csv")
clean_df = pd.read_csv(datafile2, low_memory=False)
clean_df.head()


#Change date died to 1 if died so data can be sorted on binary response (Lambda function courtesy of Dave Melillo)
clean_df['Patient Died'] = clean_df['DATE_DIED'].apply(lambda x: 0 if x == '0' else 1)
clean_df


#Update column names
clean_df.rename(columns = {'USMER':"Unit Level", "MEDICAL_UNIT": "Institution Type", "PATIENT_TYPE": "Home vs Admit", "DATE_DIED": "Date Died", "SEX": "Sex", 
                           "INTUBED": "Intubated", "PNEUMONIA": "Pneumonia", "AGE": "Age", "PREGNANT": "Pregnant", "DIABETES": "Diabetes", "HIPERTENSION": "Hypertension", "OTHER_DISEASE": "Other Disease",
                          "CARDIOVASCULAR": "Cardiovascular", "OBESITY": "Obesity", "RENAL_CHRONIC": "Renal", "TOBACCO": "Tobacco Use", "CLASIFFICATION_FINAL": "COVID Test Result"}, inplace = True)
clean_df.head()


#Remove patients that did not have a postive covid test
covid_pos = clean_df.loc[clean_df["COVID Test Result"] < 4]
covid_pos.head()


#Make a smaller dataframe for analysis
preexisting_df = covid_pos[["Sex", "Intubated", "Pneumonia", "Age", "Diabetes", "Hypertension", "Other Disease", 
                            "Cardiovascular", "Obesity", "Renal", "ICU", "Pre-Existing Conditions Score", "Patient Died" ]]
preexisting_df


#Determine relationship between death and pre-existing conditions. Check that scores make sense
num_preexisting = preexisting_df.groupby("Pre-Existing Conditions Score")
count_scores = num_preexisting["Pre-Existing Conditions Score"].count()

sum_scores = num_preexisting["Patient Died"].sum()
sum_scores


#Determine relationship between death and pre-existing conditions. 
deathbyscore_df = pd.concat([count_scores, sum_scores],axis = 1)
deathbyscore_df = deathbyscore_df.rename(columns={'Pre-Existing Conditions Score': 'PECS'})
deathbyscore_df["% Died"] = deathbyscore_df["Patient Died"]/deathbyscore_df["PECS"] *100
deathbyscore_df.sort_values(by='% Died', ascending=False)






#Plot 1

deathbyscore_df = deathbyscore_df.reset_index()
plot1 = deathbyscore_df[["Pre-Existing Conditions Score", "% Died"]]
plot1 = plot1.set_index("Pre-Existing Conditions Score")
plot1.plot(kind="bar")
plt.ylabel("% of Patients That Died")
plt.title("Death by Number of Pre-Existing Conditions")


#Determine relationship between intubation and death
#Drop rows with missing data
intubated_df = preexisting_df.drop(preexisting_df[preexisting_df["Intubated"] == 0].index)
intubated_df = intubated_df[["Intubated", "Patient Died"]]
intubated_df


#Determine relationship between intubation and death
intubated = intubated_df.groupby("Intubated")
count_death = intubated["Patient Died"].sum()
sum_df = pd.DataFrame(count_death)
sum_df.rename(columns = {'Patient Died': "Total Deaths"}, inplace = True)
sum_df
total_patient = intubated["Patient Died"].count()
total_patient_df = pd.DataFrame(total_patient)
total_patient_df.rename(columns = {'Patient Died': "Total Patients"}, inplace = True)
total_patient_df
intubated_percent = pd.merge(sum_df, total_patient_df, on="Intubated", how="left")
intubated_percent["% Died"] = intubated_percent["Total Deaths"]/intubated_percent["Total Patients"] * 100
intubated_percent



#Plot 2
intubated_percent = intubated_percent.reset_index()
plot2 = intubated_percent[["Intubated", "% Died"]]
plot2 = plot2.set_index("Intubated")
plot2.plot(kind="bar")













#Scale and create a correlation matrix
