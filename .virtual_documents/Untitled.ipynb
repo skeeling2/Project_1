# Import dependencies
import pandas as pd
import numpy as np
from scipy import stats
from matplotlib import pyplot as plt
from pathlib import Path


# Read in CSV
datafile = Path("predicting_misuse_csv.csv")
original_df = pd.read_csv(datafile)
original_df.head()


# Add a column for sum
original_df["Drug Use Total"] = ""
original_df.head()


# Sum illict drug use (without Rx misuse) and add to empty column (function from chatGPT)
def add_select_columns(row, columns):
    return row[columns].sum()
selected_columns = ["HEROINUSE", "TRQLZRS","SEDATVS","COCAINE","AMPHETMN","HALUCNG"]
for index, row in original_df.iterrows():
    original_df.loc[index, 'Drug Use Total'] = add_select_columns(row, selected_columns)
       


original_df.head()


# Create a correlation matrix to determine which variables are more highly correlated with illicit drug use  (https://www.geeksforgeeks.org/create-a-correlation-matrix-using-python/)
matrix = original_df.corr()
plt.imshow(matrix, cmap='Blues')
plt.colorbar()
variables = []
for i in matrix.columns:
  variables.append(i)
plt.xticks(range(len(matrix)), variables, rotation="vertical", ha='center')
plt.yticks(range(len(matrix)), variables)
plt.show()
print(matrix)



